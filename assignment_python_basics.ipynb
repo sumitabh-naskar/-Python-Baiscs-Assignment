{
 "cells": [
  {
   "cell_type": "code",
   "execution_count": null,
   "id": "5c18d377-6082-4183-ae3e-2c425cf4ad89",
   "metadata": {
    "scrolled": true
   },
   "outputs": [],
   "source": [
    "1.#Explain the key features of Python that make it a popular choice for programming.\n",
    "#Key Features of Python and What makes it popular choice in programming\n",
    "\n",
    "#Key Features:\n",
    "'''\n",
    "(a) Ease of Learning\n",
    "(b) Versability\n",
    "(c) Reading Python Codes is Very Easy\n",
    "(d) A lot of Libraries(1,37,000)\n",
    "(e) Huge active Community\n",
    "(f) Widely used by Data Industry\n",
    "'''"
   ]
  },
  {
   "cell_type": "code",
   "execution_count": 331,
   "id": "c32f8c08-5f75-43b9-87dd-0a6931b0a3c2",
   "metadata": {},
   "outputs": [
    {
     "name": "stdout",
     "output_type": "stream",
     "text": [
      "1\n"
     ]
    }
   ],
   "source": [
    "2.#Describe the role of predefined keywords in Python and provide examples of how they are used in a program.\n",
    "#Roles of Predefined Keywords in Python and their Examples:\n",
    "'''Keywords are predefined words that hold a specific purpose in Python Programming.'''\n",
    "#E.g: Print,Type\n",
    "a=1\n",
    "print(a)"
   ]
  },
  {
   "cell_type": "code",
   "execution_count": 69,
   "id": "60385a2d-d48e-45ca-afdd-6eeb0dcf78f9",
   "metadata": {},
   "outputs": [
    {
     "data": {
      "text/plain": [
       "int"
      ]
     },
     "execution_count": 69,
     "metadata": {},
     "output_type": "execute_result"
    }
   ],
   "source": [
    "type(a)"
   ]
  },
  {
   "cell_type": "code",
   "execution_count": 71,
   "id": "2c92a84f-71a1-4cb1-85a9-f7739b10dd39",
   "metadata": {},
   "outputs": [
    {
     "data": {
      "text/plain": [
       "\" If we type help('keywords') all keywords list will be shown.\""
      ]
     },
     "execution_count": 71,
     "metadata": {},
     "output_type": "execute_result"
    }
   ],
   "source": [
    "#There are many Keywords in Python.\n",
    "''' If we type help('keywords') all keywords list will be shown.'''"
   ]
  },
  {
   "cell_type": "code",
   "execution_count": 73,
   "id": "42972fa6-dd43-41ef-8309-035d7cb55c25",
   "metadata": {},
   "outputs": [
    {
     "name": "stdout",
     "output_type": "stream",
     "text": [
      "\n",
      "Here is a list of the Python keywords.  Enter any keyword to get more help.\n",
      "\n",
      "False               class               from                or\n",
      "None                continue            global              pass\n",
      "True                def                 if                  raise\n",
      "and                 del                 import              return\n",
      "as                  elif                in                  try\n",
      "assert              else                is                  while\n",
      "async               except              lambda              with\n",
      "await               finally             nonlocal            yield\n",
      "break               for                 not                 \n",
      "\n"
     ]
    }
   ],
   "source": [
    "help('keywords')"
   ]
  },
  {
   "cell_type": "code",
   "execution_count": 75,
   "id": "4627914f-658d-4632-8147-4235d408406a",
   "metadata": {},
   "outputs": [
    {
     "data": {
      "text/plain": [
       "'Mutability means ability to edit codes after assignment.'"
      ]
     },
     "execution_count": 75,
     "metadata": {},
     "output_type": "execute_result"
    }
   ],
   "source": [
    "3.#Compare and contrast mutable and immutable objects in Python with examples.\n",
    "#Mutable vs Immutable Objects\n",
    "'''Mutability means ability to edit codes after assignment.'''"
   ]
  },
  {
   "cell_type": "code",
   "execution_count": 77,
   "id": "f5751325-da12-479c-bca1-ac057a8c94ec",
   "metadata": {},
   "outputs": [],
   "source": [
    "#For Example:"
   ]
  },
  {
   "cell_type": "code",
   "execution_count": 79,
   "id": "4846095a-66f5-43ba-8dd5-d771c9fcc7e7",
   "metadata": {},
   "outputs": [],
   "source": [
    "mylist=[1,2,3,4,'Sumitabh','Raja']"
   ]
  },
  {
   "cell_type": "code",
   "execution_count": 81,
   "id": "b8d32630-89f8-4413-94e7-74d7b689d8ed",
   "metadata": {},
   "outputs": [
    {
     "data": {
      "text/plain": [
       "[1, 2, 3, 4, 'Sumitabh', 'Raja']"
      ]
     },
     "execution_count": 81,
     "metadata": {},
     "output_type": "execute_result"
    }
   ],
   "source": [
    "mylist"
   ]
  },
  {
   "cell_type": "code",
   "execution_count": 83,
   "id": "7c88ed9a-2765-48be-9400-962fb50386d1",
   "metadata": {},
   "outputs": [
    {
     "data": {
      "text/plain": [
       "list"
      ]
     },
     "execution_count": 83,
     "metadata": {},
     "output_type": "execute_result"
    }
   ],
   "source": [
    "type(mylist)"
   ]
  },
  {
   "cell_type": "code",
   "execution_count": 85,
   "id": "4ff684d1-d34f-42d2-9ee4-d89b6180b395",
   "metadata": {},
   "outputs": [],
   "source": [
    "mylist[5]='King'"
   ]
  },
  {
   "cell_type": "code",
   "execution_count": 87,
   "id": "4193f087-f543-4f47-93da-a22b2f511223",
   "metadata": {},
   "outputs": [
    {
     "data": {
      "text/plain": [
       "[1, 2, 3, 4, 'Sumitabh', 'King']"
      ]
     },
     "execution_count": 87,
     "metadata": {},
     "output_type": "execute_result"
    }
   ],
   "source": [
    "mylist"
   ]
  },
  {
   "cell_type": "code",
   "execution_count": 89,
   "id": "e8b83527-f68d-423d-b880-38bec59739b8",
   "metadata": {},
   "outputs": [],
   "source": [
    "#So,List is an example of Mutable object."
   ]
  },
  {
   "cell_type": "code",
   "execution_count": 91,
   "id": "b298f495-e68d-4798-b9db-cfa3a8d67b92",
   "metadata": {},
   "outputs": [
    {
     "data": {
      "text/plain": [
       "'Objects whose state or value cannot be changed after they are created are called immutable objects.'"
      ]
     },
     "execution_count": 91,
     "metadata": {},
     "output_type": "execute_result"
    }
   ],
   "source": [
    "'''String is an example of Immutable object'''\n",
    "'''Objects whose state or value cannot be changed after they are created are called immutable objects.'''\n",
    "#For Example:"
   ]
  },
  {
   "cell_type": "code",
   "execution_count": 93,
   "id": "eb1dbf2f-6f07-4f28-a0ec-312c1b97d5fe",
   "metadata": {},
   "outputs": [],
   "source": [
    "a='Sumitabh'"
   ]
  },
  {
   "cell_type": "code",
   "execution_count": 95,
   "id": "75b3c285-bb7c-47f3-9d60-c679c952c585",
   "metadata": {},
   "outputs": [
    {
     "name": "stdout",
     "output_type": "stream",
     "text": [
      "Sumitabh\n"
     ]
    }
   ],
   "source": [
    "print(a)"
   ]
  },
  {
   "cell_type": "code",
   "execution_count": 97,
   "id": "a32e3b41-01a8-4ffe-b1ac-c972e87e5726",
   "metadata": {},
   "outputs": [
    {
     "ename": "TypeError",
     "evalue": "'str' object does not support item assignment",
     "output_type": "error",
     "traceback": [
      "\u001b[0;31m---------------------------------------------------------------------------\u001b[0m",
      "\u001b[0;31mTypeError\u001b[0m                                 Traceback (most recent call last)",
      "Cell \u001b[0;32mIn[97], line 1\u001b[0m\n\u001b[0;32m----> 1\u001b[0m a[\u001b[38;5;241m2\u001b[39m]\u001b[38;5;241m=\u001b[39m\u001b[38;5;124m'\u001b[39m\u001b[38;5;124mu\u001b[39m\u001b[38;5;124m'\u001b[39m\n",
      "\u001b[0;31mTypeError\u001b[0m: 'str' object does not support item assignment"
     ]
    }
   ],
   "source": [
    "a[2]='u'"
   ]
  },
  {
   "cell_type": "code",
   "execution_count": 99,
   "id": "a5ab07c7-e8b5-44c6-8b75-4017d293857b",
   "metadata": {},
   "outputs": [],
   "source": [
    "#string is a type ofimmutable object which does not supports item assignment."
   ]
  },
  {
   "cell_type": "code",
   "execution_count": 101,
   "id": "95fc97e2-a5f8-4f86-8fa7-d9ec3b496b09",
   "metadata": {},
   "outputs": [
    {
     "data": {
      "text/plain": [
       "'\\n(a)Arithmatic Operators\\n(b)Comparison Operators\\n(c)Logical Operators\\n(d)Bitwise Operators\\n(e)Assignment Operators\\n(f)Membership Operators\\n(g)Identity Operators\\n'"
      ]
     },
     "execution_count": 101,
     "metadata": {},
     "output_type": "execute_result"
    }
   ],
   "source": [
    "4.#Discuss the different types of operators in Python and provide examples of how they are used.\n",
    "#Operators of Python\n",
    "'''\n",
    "(a)Arithmatic Operators\n",
    "(b)Comparison Operators\n",
    "(c)Logical Operators\n",
    "(d)Bitwise Operators\n",
    "(e)Assignment Operators\n",
    "(f)Membership Operators\n",
    "(g)Identity Operators\n",
    "'''"
   ]
  },
  {
   "cell_type": "code",
   "execution_count": 103,
   "id": "c9f15c53-2ca0-4bd1-b350-a8f632116214",
   "metadata": {},
   "outputs": [
    {
     "data": {
      "text/plain": [
       "'\\n* Addition(+)\\n* Substraction(-)\\n* Multiplication(*)\\n* Division(/)\\n* Modulus(%)\\n* Exponentiation(**)\\n* Floor Division(//)\\n'"
      ]
     },
     "execution_count": 103,
     "metadata": {},
     "output_type": "execute_result"
    }
   ],
   "source": [
    "#(a)Arithmatic Operators\n",
    "'''\n",
    "* Addition(+)\n",
    "* Substraction(-)\n",
    "* Multiplication(*)\n",
    "* Division(/)\n",
    "* Modulus(%)\n",
    "* Exponentiation(**)\n",
    "* Floor Division(//)\n",
    "'''"
   ]
  },
  {
   "cell_type": "code",
   "execution_count": 105,
   "id": "3573e402-6f99-41b4-b72a-55c24d2ffee3",
   "metadata": {},
   "outputs": [],
   "source": [
    "#For Example:\n",
    "x=10\n",
    "y=4"
   ]
  },
  {
   "cell_type": "code",
   "execution_count": 107,
   "id": "7967e21b-b37e-4ca1-b536-950328ac3561",
   "metadata": {},
   "outputs": [
    {
     "name": "stdout",
     "output_type": "stream",
     "text": [
      "14\n"
     ]
    }
   ],
   "source": [
    "print(x+y)"
   ]
  },
  {
   "cell_type": "code",
   "execution_count": 109,
   "id": "722a572f-83bf-46bb-8bba-9f7baea6745a",
   "metadata": {},
   "outputs": [
    {
     "name": "stdout",
     "output_type": "stream",
     "text": [
      "6\n"
     ]
    }
   ],
   "source": [
    "print(x-y)"
   ]
  },
  {
   "cell_type": "code",
   "execution_count": 111,
   "id": "a783dbf2-5620-4022-bbe2-2b82d94e726f",
   "metadata": {},
   "outputs": [
    {
     "name": "stdout",
     "output_type": "stream",
     "text": [
      "40\n"
     ]
    }
   ],
   "source": [
    "print(x*y)"
   ]
  },
  {
   "cell_type": "code",
   "execution_count": 113,
   "id": "e1a43ea5-dc4a-4034-9e60-6720b83453e2",
   "metadata": {},
   "outputs": [
    {
     "name": "stdout",
     "output_type": "stream",
     "text": [
      "2.5\n"
     ]
    }
   ],
   "source": [
    "print(x/y)"
   ]
  },
  {
   "cell_type": "code",
   "execution_count": 115,
   "id": "5a31b0e1-4dd4-422c-b858-38f4b4bde329",
   "metadata": {},
   "outputs": [
    {
     "name": "stdout",
     "output_type": "stream",
     "text": [
      "2\n"
     ]
    }
   ],
   "source": [
    "print(x%y)"
   ]
  },
  {
   "cell_type": "code",
   "execution_count": 117,
   "id": "27aba2a6-e9cf-4def-9fbc-6644bba44996",
   "metadata": {},
   "outputs": [
    {
     "name": "stdout",
     "output_type": "stream",
     "text": [
      "10000\n"
     ]
    }
   ],
   "source": [
    "print(x**y)"
   ]
  },
  {
   "cell_type": "code",
   "execution_count": 119,
   "id": "1ff3c070-2e9a-4d08-a858-1a36551bb3d7",
   "metadata": {},
   "outputs": [
    {
     "name": "stdout",
     "output_type": "stream",
     "text": [
      "2\n"
     ]
    }
   ],
   "source": [
    "print(x//y)"
   ]
  },
  {
   "cell_type": "code",
   "execution_count": 121,
   "id": "3fffbae8-c558-46d8-bd6e-8a73223c2bb3",
   "metadata": {},
   "outputs": [
    {
     "data": {
      "text/plain": [
       "'\\n* == (equal to)\\n* != (not equal to) \\n* > (greater than) \\n* < (less than)\\n* >= (greater than or equal to)\\n* <= (less than or equal to\\n'"
      ]
     },
     "execution_count": 121,
     "metadata": {},
     "output_type": "execute_result"
    }
   ],
   "source": [
    "#(b)Comparison Operators\n",
    "'''\n",
    "* == (equal to)\n",
    "* != (not equal to) \n",
    "* > (greater than) \n",
    "* < (less than)\n",
    "* >= (greater than or equal to)\n",
    "* <= (less than or equal to\n",
    "'''\n"
   ]
  },
  {
   "cell_type": "code",
   "execution_count": 123,
   "id": "18f6a20f-d956-4bfe-94b5-0ceae4dded17",
   "metadata": {},
   "outputs": [
    {
     "name": "stdout",
     "output_type": "stream",
     "text": [
      "False\n"
     ]
    }
   ],
   "source": [
    "#For Example\n",
    "print(x==y)"
   ]
  },
  {
   "cell_type": "code",
   "execution_count": 125,
   "id": "eced29db-e86b-4689-a353-d3e540dc4dec",
   "metadata": {},
   "outputs": [
    {
     "name": "stdout",
     "output_type": "stream",
     "text": [
      "True\n"
     ]
    }
   ],
   "source": [
    "print(x>y)"
   ]
  },
  {
   "cell_type": "code",
   "execution_count": 127,
   "id": "e27f5f16-2a13-469c-85a9-a3a4a3af4061",
   "metadata": {},
   "outputs": [
    {
     "name": "stdout",
     "output_type": "stream",
     "text": [
      "False\n"
     ]
    }
   ],
   "source": [
    "print(x<y)"
   ]
  },
  {
   "cell_type": "code",
   "execution_count": 129,
   "id": "29621f65-dfdb-4436-9426-0f4ea6b7c1cd",
   "metadata": {},
   "outputs": [
    {
     "name": "stdout",
     "output_type": "stream",
     "text": [
      "True\n"
     ]
    }
   ],
   "source": [
    "print(x>=y)"
   ]
  },
  {
   "cell_type": "code",
   "execution_count": 131,
   "id": "07ce0b9e-4304-4422-8fda-9764dc85e417",
   "metadata": {},
   "outputs": [
    {
     "name": "stdout",
     "output_type": "stream",
     "text": [
      "False\n"
     ]
    }
   ],
   "source": [
    "print(x<=y)"
   ]
  },
  {
   "cell_type": "code",
   "execution_count": 133,
   "id": "2d8a728a-40dd-4df7-8920-c70f729fdb9e",
   "metadata": {},
   "outputs": [
    {
     "name": "stdout",
     "output_type": "stream",
     "text": [
      "True\n"
     ]
    }
   ],
   "source": [
    "print(x!=y)"
   ]
  },
  {
   "cell_type": "code",
   "execution_count": 135,
   "id": "a4fe33d7-36cc-400f-bae6-3505dd5ea721",
   "metadata": {},
   "outputs": [
    {
     "data": {
      "text/plain": [
       "'\\n* and : both the conditions are True\\n* or : atleast one of the conditions should True\\n* not : negation / opposite result will be displayed\\n'"
      ]
     },
     "execution_count": 135,
     "metadata": {},
     "output_type": "execute_result"
    }
   ],
   "source": [
    "#(c)Logical Operators\n",
    "\n",
    "'''A logical operator, also known as a logical connective, is a symbol or word used to connect two or more expressions or conditions, \n",
    "evaluating to either true or false based on the truth values of the connected expressions.'''\n",
    "\n",
    "'''\n",
    "* and : both the conditions are True\n",
    "* or : atleast one of the conditions should True\n",
    "* not : negation / opposite result will be displayed\n",
    "'''"
   ]
  },
  {
   "cell_type": "code",
   "execution_count": 137,
   "id": "c8a4103d-8b4b-448e-8337-feac5c369681",
   "metadata": {},
   "outputs": [],
   "source": [
    "#For Example:\n",
    "x=5\n",
    "y=10\n",
    "z=15"
   ]
  },
  {
   "cell_type": "code",
   "execution_count": 139,
   "id": "07b38005-60c2-4624-a88f-265db43ab020",
   "metadata": {},
   "outputs": [
    {
     "data": {
      "text/plain": [
       "True"
      ]
     },
     "execution_count": 139,
     "metadata": {},
     "output_type": "execute_result"
    }
   ],
   "source": [
    "#and\n",
    "x<y and y<z"
   ]
  },
  {
   "cell_type": "code",
   "execution_count": 141,
   "id": "c398913d-bc16-47c6-aa88-0ad4db3fa333",
   "metadata": {},
   "outputs": [
    {
     "data": {
      "text/plain": [
       "True"
      ]
     },
     "execution_count": 141,
     "metadata": {},
     "output_type": "execute_result"
    }
   ],
   "source": [
    "#or\n",
    "x<y or x>z"
   ]
  },
  {
   "cell_type": "code",
   "execution_count": 143,
   "id": "acb1a770-9061-4997-8b8d-e95915696ca1",
   "metadata": {},
   "outputs": [
    {
     "data": {
      "text/plain": [
       "False"
      ]
     },
     "execution_count": 143,
     "metadata": {},
     "output_type": "execute_result"
    }
   ],
   "source": [
    "#not\n",
    "not(x<y)"
   ]
  },
  {
   "cell_type": "code",
   "execution_count": 145,
   "id": "f9146d3f-cbbb-4ce1-84cd-907bbe006ee3",
   "metadata": {},
   "outputs": [
    {
     "data": {
      "text/plain": [
       "True"
      ]
     },
     "execution_count": 145,
     "metadata": {},
     "output_type": "execute_result"
    }
   ],
   "source": [
    "not(x>y)"
   ]
  },
  {
   "cell_type": "code",
   "execution_count": 147,
   "id": "0ec14d60-a53e-4052-8633-3057c9eeee90",
   "metadata": {},
   "outputs": [
    {
     "data": {
      "text/plain": [
       "'\\n* &(and)\\n* |(or)\\n* ~(tilda)\\n* ^(xor)\\n* >>(Right Shift),<<(Left Shift)\\n'"
      ]
     },
     "execution_count": 147,
     "metadata": {},
     "output_type": "execute_result"
    }
   ],
   "source": [
    "#(d)Bitwise Operators\n",
    "\n",
    "'''A bitwise operator is a character representing an action performed on data at the bit level (individual bits in a binary pattern), \n",
    "rather than on bytes or larger units of data.'''\n",
    "\n",
    "'''\n",
    "* &(and)\n",
    "* |(or)\n",
    "* ~(tilda)\n",
    "* ^(xor)\n",
    "* >>(Right Shift),<<(Left Shift)\n",
    "'''"
   ]
  },
  {
   "cell_type": "code",
   "execution_count": 149,
   "id": "0d909970-f127-45a3-a674-d89150552609",
   "metadata": {},
   "outputs": [
    {
     "data": {
      "text/plain": [
       "10"
      ]
     },
     "execution_count": 149,
     "metadata": {},
     "output_type": "execute_result"
    }
   ],
   "source": [
    "#For Example:\n",
    "10&10"
   ]
  },
  {
   "cell_type": "code",
   "execution_count": 151,
   "id": "5ef343ba-9da6-4add-ad04-558b89cfef5c",
   "metadata": {},
   "outputs": [
    {
     "data": {
      "text/plain": [
       "'0b1010'"
      ]
     },
     "execution_count": 151,
     "metadata": {},
     "output_type": "execute_result"
    }
   ],
   "source": [
    "bin(10)"
   ]
  },
  {
   "cell_type": "code",
   "execution_count": 153,
   "id": "6a49cb41-f9c5-4c8f-a384-15385afbf4ef",
   "metadata": {},
   "outputs": [
    {
     "data": {
      "text/plain": [
       "7"
      ]
     },
     "execution_count": 153,
     "metadata": {},
     "output_type": "execute_result"
    }
   ],
   "source": [
    "5|3"
   ]
  },
  {
   "cell_type": "code",
   "execution_count": 155,
   "id": "79fc361c-d103-4b71-a573-49b6cc8ad3f5",
   "metadata": {},
   "outputs": [
    {
     "data": {
      "text/plain": [
       "'0b101'"
      ]
     },
     "execution_count": 155,
     "metadata": {},
     "output_type": "execute_result"
    }
   ],
   "source": [
    "bin(5)"
   ]
  },
  {
   "cell_type": "code",
   "execution_count": 157,
   "id": "8f3189d4-0b3d-4529-9a28-65b9954e6a6c",
   "metadata": {},
   "outputs": [
    {
     "data": {
      "text/plain": [
       "'0b11'"
      ]
     },
     "execution_count": 157,
     "metadata": {},
     "output_type": "execute_result"
    }
   ],
   "source": [
    "bin(3)"
   ]
  },
  {
   "cell_type": "code",
   "execution_count": 159,
   "id": "38e2bcc0-ad87-4986-982d-ab54ba31b6c8",
   "metadata": {},
   "outputs": [
    {
     "data": {
      "text/plain": [
       "'0b111'"
      ]
     },
     "execution_count": 159,
     "metadata": {},
     "output_type": "execute_result"
    }
   ],
   "source": [
    "bin(7)"
   ]
  },
  {
   "cell_type": "code",
   "execution_count": 161,
   "id": "c06d8109-90a6-4c0a-ad43-087ca054970f",
   "metadata": {},
   "outputs": [
    {
     "data": {
      "text/plain": [
       "-4"
      ]
     },
     "execution_count": 161,
     "metadata": {},
     "output_type": "execute_result"
    }
   ],
   "source": [
    "~3"
   ]
  },
  {
   "cell_type": "code",
   "execution_count": 163,
   "id": "3c67ed05-28af-4f9d-8d8b-204ce0da4d23",
   "metadata": {},
   "outputs": [
    {
     "data": {
      "text/plain": [
       "6"
      ]
     },
     "execution_count": 163,
     "metadata": {},
     "output_type": "execute_result"
    }
   ],
   "source": [
    "5^3"
   ]
  },
  {
   "cell_type": "code",
   "execution_count": 165,
   "id": "53f107e5-4785-4864-8265-bc4e42f7e76e",
   "metadata": {},
   "outputs": [
    {
     "data": {
      "text/plain": [
       "'0b110'"
      ]
     },
     "execution_count": 165,
     "metadata": {},
     "output_type": "execute_result"
    }
   ],
   "source": [
    "bin(6)"
   ]
  },
  {
   "cell_type": "code",
   "execution_count": 167,
   "id": "97dcdfe8-d5e4-4f4b-bf16-57ccb50b98c0",
   "metadata": {},
   "outputs": [
    {
     "data": {
      "text/plain": [
       "35"
      ]
     },
     "execution_count": 167,
     "metadata": {},
     "output_type": "execute_result"
    }
   ],
   "source": [
    "280>>3 #Right Shift"
   ]
  },
  {
   "cell_type": "code",
   "execution_count": 169,
   "id": "9cfda40f-469a-46f2-9123-8f462d8f3926",
   "metadata": {},
   "outputs": [
    {
     "data": {
      "text/plain": [
       "'0b100011'"
      ]
     },
     "execution_count": 169,
     "metadata": {},
     "output_type": "execute_result"
    }
   ],
   "source": [
    "bin(35)"
   ]
  },
  {
   "cell_type": "code",
   "execution_count": 171,
   "id": "677f95ce-2c38-42f9-a0bc-c2dc89027d73",
   "metadata": {},
   "outputs": [
    {
     "data": {
      "text/plain": [
       "280"
      ]
     },
     "execution_count": 171,
     "metadata": {},
     "output_type": "execute_result"
    }
   ],
   "source": [
    "35<<3 #Left Shift"
   ]
  },
  {
   "cell_type": "code",
   "execution_count": 173,
   "id": "2b7740ee-a02c-4892-80dd-35677679b55b",
   "metadata": {},
   "outputs": [
    {
     "data": {
      "text/plain": [
       "'0b100011000'"
      ]
     },
     "execution_count": 173,
     "metadata": {},
     "output_type": "execute_result"
    }
   ],
   "source": [
    "bin(280)"
   ]
  },
  {
   "cell_type": "code",
   "execution_count": 175,
   "id": "9ba8941e-1cf6-4de0-9c3e-72b404a3e44d",
   "metadata": {},
   "outputs": [
    {
     "data": {
      "text/plain": [
       "'\\n* (=)Equal\\n* (+=)Addition\\n* (-=)Substraction\\n* (*=)Multiplication\\n* (/=)Division \\n'"
      ]
     },
     "execution_count": 175,
     "metadata": {},
     "output_type": "execute_result"
    }
   ],
   "source": [
    "#(e)Assignment Operators\n",
    "'''\n",
    "In Python, assignment operators assign values to variables, with the basic operator being =, and augmented operators like +=, -=, *=, etc.,\n",
    "combining arithmetic operations with assignment. '''\n",
    "\n",
    "'''\n",
    "* (=)Equal\n",
    "* (+=)Addition\n",
    "* (-=)Substraction\n",
    "* (*=)Multiplication\n",
    "* (/=)Division \n",
    "'''\n"
   ]
  },
  {
   "cell_type": "code",
   "execution_count": 177,
   "id": "8f8efbca-b44c-4ce2-88c4-bf46e2fd2374",
   "metadata": {},
   "outputs": [
    {
     "data": {
      "text/plain": [
       "'Sumitabh'"
      ]
     },
     "execution_count": 177,
     "metadata": {},
     "output_type": "execute_result"
    }
   ],
   "source": [
    "#For Example:\n",
    "a"
   ]
  },
  {
   "cell_type": "code",
   "execution_count": 179,
   "id": "37713995-801e-4119-a610-e778ae8d78b1",
   "metadata": {},
   "outputs": [],
   "source": [
    "a=5"
   ]
  },
  {
   "cell_type": "code",
   "execution_count": 181,
   "id": "2b11d74c-b780-4859-8d5e-33cfd4f9585f",
   "metadata": {},
   "outputs": [
    {
     "data": {
      "text/plain": [
       "5"
      ]
     },
     "execution_count": 181,
     "metadata": {},
     "output_type": "execute_result"
    }
   ],
   "source": [
    "a"
   ]
  },
  {
   "cell_type": "code",
   "execution_count": 183,
   "id": "b09f90e6-3196-40b5-b77c-c39e3e11591b",
   "metadata": {},
   "outputs": [
    {
     "data": {
      "text/plain": [
       "'5 is assigned to a now value of a is 5'"
      ]
     },
     "execution_count": 183,
     "metadata": {},
     "output_type": "execute_result"
    }
   ],
   "source": [
    "'''5 is assigned to a now value of a is 5'''\n"
   ]
  },
  {
   "cell_type": "code",
   "execution_count": 185,
   "id": "c8bdbaeb-51cf-4583-bf96-c7fc690cca27",
   "metadata": {},
   "outputs": [],
   "source": [
    "b=3"
   ]
  },
  {
   "cell_type": "code",
   "execution_count": 187,
   "id": "0ebd0bae-de27-4915-8200-c2ca75fb47d4",
   "metadata": {},
   "outputs": [
    {
     "data": {
      "text/plain": [
       "5"
      ]
     },
     "execution_count": 187,
     "metadata": {},
     "output_type": "execute_result"
    }
   ],
   "source": [
    "a"
   ]
  },
  {
   "cell_type": "code",
   "execution_count": 189,
   "id": "b20f21ea-b65e-46a9-a5ad-4ede02b3d5e6",
   "metadata": {},
   "outputs": [
    {
     "data": {
      "text/plain": [
       "3"
      ]
     },
     "execution_count": 189,
     "metadata": {},
     "output_type": "execute_result"
    }
   ],
   "source": [
    "b"
   ]
  },
  {
   "cell_type": "code",
   "execution_count": 191,
   "id": "36188e20-41fa-4066-b39e-3ca2f2d315f3",
   "metadata": {},
   "outputs": [
    {
     "data": {
      "text/plain": [
       "8"
      ]
     },
     "execution_count": 191,
     "metadata": {},
     "output_type": "execute_result"
    }
   ],
   "source": [
    "a+b"
   ]
  },
  {
   "cell_type": "code",
   "execution_count": 193,
   "id": "f5686a64-cb11-47e7-b0d0-90a57d281168",
   "metadata": {},
   "outputs": [
    {
     "data": {
      "text/plain": [
       "5"
      ]
     },
     "execution_count": 193,
     "metadata": {},
     "output_type": "execute_result"
    }
   ],
   "source": [
    "a"
   ]
  },
  {
   "cell_type": "code",
   "execution_count": 195,
   "id": "0e1d001d-575d-4c12-868e-a95c03c7a208",
   "metadata": {},
   "outputs": [
    {
     "data": {
      "text/plain": [
       "3"
      ]
     },
     "execution_count": 195,
     "metadata": {},
     "output_type": "execute_result"
    }
   ],
   "source": [
    "b"
   ]
  },
  {
   "cell_type": "code",
   "execution_count": 197,
   "id": "08f5b9d8-7bb7-4408-af9a-9a201ea9f3fa",
   "metadata": {},
   "outputs": [],
   "source": [
    "a+=b"
   ]
  },
  {
   "cell_type": "code",
   "execution_count": 199,
   "id": "b16e39c0-14a2-4920-b225-cf7c498ebc00",
   "metadata": {},
   "outputs": [
    {
     "data": {
      "text/plain": [
       "8"
      ]
     },
     "execution_count": 199,
     "metadata": {},
     "output_type": "execute_result"
    }
   ],
   "source": [
    "a"
   ]
  },
  {
   "cell_type": "code",
   "execution_count": 201,
   "id": "06215261-16f5-4eda-8e1c-576098cc4859",
   "metadata": {},
   "outputs": [
    {
     "data": {
      "text/plain": [
       "' So,now addition of a+b is assigned to a '"
      ]
     },
     "execution_count": 201,
     "metadata": {},
     "output_type": "execute_result"
    }
   ],
   "source": [
    "''' So,now addition of a+b is assigned to a '''"
   ]
  },
  {
   "cell_type": "code",
   "execution_count": 203,
   "id": "5073302a-f0a0-461d-95d1-4152099ffd24",
   "metadata": {},
   "outputs": [],
   "source": [
    "a-=b"
   ]
  },
  {
   "cell_type": "code",
   "execution_count": 205,
   "id": "b260f224-3947-4a5c-a1bb-e0d1875d33e9",
   "metadata": {},
   "outputs": [
    {
     "data": {
      "text/plain": [
       "5"
      ]
     },
     "execution_count": 205,
     "metadata": {},
     "output_type": "execute_result"
    }
   ],
   "source": [
    "a"
   ]
  },
  {
   "cell_type": "code",
   "execution_count": 207,
   "id": "51c7ba32-71f7-4c25-a3f2-e0e68f9c29c0",
   "metadata": {},
   "outputs": [
    {
     "data": {
      "text/plain": [
       "' Now, b is substracted from a and the output result is assigned to a '"
      ]
     },
     "execution_count": 207,
     "metadata": {},
     "output_type": "execute_result"
    }
   ],
   "source": [
    "''' Now, b is substracted from a and the output result is assigned to a '''"
   ]
  },
  {
   "cell_type": "code",
   "execution_count": 209,
   "id": "7535de73-1582-4f7b-a248-8f1f9dbeaafa",
   "metadata": {},
   "outputs": [],
   "source": [
    "a*=b"
   ]
  },
  {
   "cell_type": "code",
   "execution_count": 211,
   "id": "725d93d0-1c26-4c76-a5d4-7245e815968b",
   "metadata": {},
   "outputs": [
    {
     "data": {
      "text/plain": [
       "15"
      ]
     },
     "execution_count": 211,
     "metadata": {},
     "output_type": "execute_result"
    }
   ],
   "source": [
    "a"
   ]
  },
  {
   "cell_type": "code",
   "execution_count": 213,
   "id": "fd596a6f-58a2-49ef-b156-ca5661528292",
   "metadata": {},
   "outputs": [
    {
     "data": {
      "text/plain": [
       "' Now, b is multiplied with a and the output value is assigned to a '"
      ]
     },
     "execution_count": 213,
     "metadata": {},
     "output_type": "execute_result"
    }
   ],
   "source": [
    "''' Now, b is multiplied with a and the output value is assigned to a '''"
   ]
  },
  {
   "cell_type": "code",
   "execution_count": 215,
   "id": "6322a819-4f9a-4a14-8b35-4e6c0f3d6d22",
   "metadata": {},
   "outputs": [],
   "source": [
    "a/=b"
   ]
  },
  {
   "cell_type": "code",
   "execution_count": 217,
   "id": "dfca606a-f032-4969-8f75-2b9f4631bd27",
   "metadata": {},
   "outputs": [
    {
     "data": {
      "text/plain": [
       "5.0"
      ]
     },
     "execution_count": 217,
     "metadata": {},
     "output_type": "execute_result"
    }
   ],
   "source": [
    "a"
   ]
  },
  {
   "cell_type": "code",
   "execution_count": 219,
   "id": "a091c1a9-ac62-4c90-8a17-0501c523fae6",
   "metadata": {},
   "outputs": [
    {
     "data": {
      "text/plain": [
       "' So, now value of a is divided by b and the output value is assigned to a '"
      ]
     },
     "execution_count": 219,
     "metadata": {},
     "output_type": "execute_result"
    }
   ],
   "source": [
    "''' So, now value of a is divided by b and the output value is assigned to a '''"
   ]
  },
  {
   "cell_type": "code",
   "execution_count": 221,
   "id": "11dac867-9594-40b6-aff2-2732a6f369a5",
   "metadata": {},
   "outputs": [
    {
     "data": {
      "text/plain": [
       "'\\n* in\\n* not in\\n'"
      ]
     },
     "execution_count": 221,
     "metadata": {},
     "output_type": "execute_result"
    }
   ],
   "source": [
    "#(f) Membership Operators\n",
    "\n",
    "''' In Python, membership operators, in and not in, check if a value is present or absent within \n",
    "a sequence (like strings, lists, tuples, or sets) and return a boolean value (True or False) accordingly. \n",
    "'''\n",
    "'''\n",
    "* in\n",
    "* not in\n",
    "'''"
   ]
  },
  {
   "cell_type": "code",
   "execution_count": 223,
   "id": "b8da8b4f-e652-4af1-a0ee-5db53a621ec0",
   "metadata": {},
   "outputs": [
    {
     "data": {
      "text/plain": [
       "True"
      ]
     },
     "execution_count": 223,
     "metadata": {},
     "output_type": "execute_result"
    }
   ],
   "source": [
    "#For Example:\n",
    "'a' in 'banana'"
   ]
  },
  {
   "cell_type": "code",
   "execution_count": 225,
   "id": "78bfa468-21a4-4b3f-9400-881af229a54a",
   "metadata": {},
   "outputs": [
    {
     "data": {
      "text/plain": [
       "False"
      ]
     },
     "execution_count": 225,
     "metadata": {},
     "output_type": "execute_result"
    }
   ],
   "source": [
    "'c' in 'banana'"
   ]
  },
  {
   "cell_type": "code",
   "execution_count": 227,
   "id": "a4b85d6c-8c4c-4a0d-80e5-790c632f2686",
   "metadata": {},
   "outputs": [
    {
     "data": {
      "text/plain": [
       "True"
      ]
     },
     "execution_count": 227,
     "metadata": {},
     "output_type": "execute_result"
    }
   ],
   "source": [
    "'c' not in 'apple'"
   ]
  },
  {
   "cell_type": "code",
   "execution_count": 229,
   "id": "b82fd80f-6ae6-48b4-a9a3-a87673edc322",
   "metadata": {},
   "outputs": [
    {
     "data": {
      "text/plain": [
       "False"
      ]
     },
     "execution_count": 229,
     "metadata": {},
     "output_type": "execute_result"
    }
   ],
   "source": [
    "'a' not in 'banana'"
   ]
  },
  {
   "cell_type": "code",
   "execution_count": 411,
   "id": "51286045-823b-4329-be91-4715e1e708e7",
   "metadata": {},
   "outputs": [
    {
     "data": {
      "text/plain": [
       "'\\n* is\\n* is not\\n'"
      ]
     },
     "execution_count": 411,
     "metadata": {},
     "output_type": "execute_result"
    }
   ],
   "source": [
    "#(g) Identity Operators\n",
    "\n",
    "''' In Python, identity operators (is and is not) check if two variables point to the same object in memory, \n",
    "unlike equality operators (== and !=) which compare values. '''\n",
    "\n",
    "'''\n",
    "* is\n",
    "* is not\n",
    "'''"
   ]
  },
  {
   "cell_type": "code",
   "execution_count": 233,
   "id": "534272d5-c3b4-43e9-a4a3-a2870084fe7f",
   "metadata": {},
   "outputs": [],
   "source": [
    "x=10\n",
    "y=10"
   ]
  },
  {
   "cell_type": "code",
   "execution_count": 235,
   "id": "ee0c94e3-aec9-447e-915f-721b4000d804",
   "metadata": {},
   "outputs": [
    {
     "data": {
      "text/plain": [
       "True"
      ]
     },
     "execution_count": 235,
     "metadata": {},
     "output_type": "execute_result"
    }
   ],
   "source": [
    "x is y"
   ]
  },
  {
   "cell_type": "code",
   "execution_count": 237,
   "id": "7301144a-ad5f-4ee2-a59e-9ccb09afe793",
   "metadata": {},
   "outputs": [
    {
     "data": {
      "text/plain": [
       "False"
      ]
     },
     "execution_count": 237,
     "metadata": {},
     "output_type": "execute_result"
    }
   ],
   "source": [
    "x is not y"
   ]
  },
  {
   "cell_type": "code",
   "execution_count": 239,
   "id": "ec5b6089-dc1d-4a50-a53b-7c3faf19c1fe",
   "metadata": {},
   "outputs": [],
   "source": [
    "x=5\n",
    "y=4"
   ]
  },
  {
   "cell_type": "code",
   "execution_count": 241,
   "id": "7ad5af7a-32ac-40fd-9fcf-448407668c6c",
   "metadata": {},
   "outputs": [
    {
     "data": {
      "text/plain": [
       "True"
      ]
     },
     "execution_count": 241,
     "metadata": {},
     "output_type": "execute_result"
    }
   ],
   "source": [
    "x is not y"
   ]
  },
  {
   "cell_type": "code",
   "execution_count": 242,
   "id": "d98a744a-87f6-466d-bd42-6a615c1ddda0",
   "metadata": {},
   "outputs": [
    {
     "data": {
      "text/plain": [
       "False"
      ]
     },
     "execution_count": 242,
     "metadata": {},
     "output_type": "execute_result"
    }
   ],
   "source": [
    "y is x"
   ]
  },
  {
   "cell_type": "code",
   "execution_count": 244,
   "id": "ec8bb929-b0e0-431e-90bc-41585a58ff60",
   "metadata": {},
   "outputs": [
    {
     "data": {
      "text/plain": [
       "' n Python, type casting, also known as type conversion, is the process of converting a value from one data type to another,\\noften using built-in functions like int(), float(), and str(). '"
      ]
     },
     "execution_count": 244,
     "metadata": {},
     "output_type": "execute_result"
    }
   ],
   "source": [
    "5.#Explain the concept of type casting in Python with examples.\n",
    "#Typecasting in Python.\n",
    "\n",
    "''' n Python, type casting, also known as type conversion, is the process of converting a value from one data type to another,\n",
    "often using built-in functions like int(), float(), and str(). '''\n"
   ]
  },
  {
   "cell_type": "code",
   "execution_count": 245,
   "id": "27260ec0-5114-4a9b-9e83-0924fed85911",
   "metadata": {},
   "outputs": [
    {
     "data": {
      "text/plain": [
       "' In cell number [60] type of a was show as float.'"
      ]
     },
     "execution_count": 245,
     "metadata": {},
     "output_type": "execute_result"
    }
   ],
   "source": [
    "#For Example:\n",
    "''' In cell number [60] type of a was show as float.'''"
   ]
  },
  {
   "cell_type": "code",
   "execution_count": 247,
   "id": "48740fd5-61d3-4b1c-bbc9-e319cbc98626",
   "metadata": {},
   "outputs": [
    {
     "data": {
      "text/plain": [
       "float"
      ]
     },
     "execution_count": 247,
     "metadata": {},
     "output_type": "execute_result"
    }
   ],
   "source": [
    "type(a)"
   ]
  },
  {
   "cell_type": "code",
   "execution_count": 250,
   "id": "1dde5bba-276f-4ecb-bb88-23e8748afd42",
   "metadata": {},
   "outputs": [
    {
     "data": {
      "text/plain": [
       "int"
      ]
     },
     "execution_count": 250,
     "metadata": {},
     "output_type": "execute_result"
    }
   ],
   "source": [
    "''' Now, we will convert it to integer.'''\n",
    "type(int(a))"
   ]
  },
  {
   "cell_type": "code",
   "execution_count": 252,
   "id": "72bc7970-69b7-4bf1-83e0-382be7ab6fb1",
   "metadata": {},
   "outputs": [],
   "source": [
    "#Let's see another example.\n",
    "x=3.4"
   ]
  },
  {
   "cell_type": "code",
   "execution_count": 254,
   "id": "1152fc17-ad2b-46f6-b542-505e01e4c012",
   "metadata": {},
   "outputs": [
    {
     "data": {
      "text/plain": [
       "3.4"
      ]
     },
     "execution_count": 254,
     "metadata": {},
     "output_type": "execute_result"
    }
   ],
   "source": [
    "x"
   ]
  },
  {
   "cell_type": "code",
   "execution_count": 257,
   "id": "ac081ba2-4337-4dee-a818-2599e91820e0",
   "metadata": {},
   "outputs": [
    {
     "data": {
      "text/plain": [
       "float"
      ]
     },
     "execution_count": 257,
     "metadata": {},
     "output_type": "execute_result"
    }
   ],
   "source": [
    "type(x)"
   ]
  },
  {
   "cell_type": "code",
   "execution_count": 259,
   "id": "2047d75b-35fe-4ef5-b292-9eb0f465f3e6",
   "metadata": {},
   "outputs": [
    {
     "data": {
      "text/plain": [
       "3"
      ]
     },
     "execution_count": 259,
     "metadata": {},
     "output_type": "execute_result"
    }
   ],
   "source": [
    "int(x)"
   ]
  },
  {
   "cell_type": "code",
   "execution_count": 261,
   "id": "cf6619e0-83ad-4dc3-8ad2-23d01f5d9661",
   "metadata": {},
   "outputs": [
    {
     "data": {
      "text/plain": [
       "'3.4'"
      ]
     },
     "execution_count": 261,
     "metadata": {},
     "output_type": "execute_result"
    }
   ],
   "source": [
    "str(x)"
   ]
  },
  {
   "cell_type": "code",
   "execution_count": 263,
   "id": "5b716d15-9ce1-4f65-bae0-a6aa9cf4dd89",
   "metadata": {},
   "outputs": [
    {
     "data": {
      "text/plain": [
       "3.4"
      ]
     },
     "execution_count": 263,
     "metadata": {},
     "output_type": "execute_result"
    }
   ],
   "source": [
    "float(x)"
   ]
  },
  {
   "cell_type": "code",
   "execution_count": 265,
   "id": "5e521d4a-a63a-4e35-b0d0-9d11af342e72",
   "metadata": {},
   "outputs": [
    {
     "data": {
      "text/plain": [
       "True"
      ]
     },
     "execution_count": 265,
     "metadata": {},
     "output_type": "execute_result"
    }
   ],
   "source": [
    "bool(x)"
   ]
  },
  {
   "cell_type": "code",
   "execution_count": 267,
   "id": "7390a1bd-f58c-47a4-819b-6cf07db12563",
   "metadata": {},
   "outputs": [
    {
     "data": {
      "text/plain": [
       "3"
      ]
     },
     "execution_count": 267,
     "metadata": {},
     "output_type": "execute_result"
    }
   ],
   "source": [
    "int(x)"
   ]
  },
  {
   "cell_type": "code",
   "execution_count": 269,
   "id": "16307462-f1b3-4b62-ac70-a50e8b89f95f",
   "metadata": {},
   "outputs": [
    {
     "data": {
      "text/plain": [
       "'\\n* if\\n* if-else\\n* if-elif-else\\n* nested-if-else\\n'"
      ]
     },
     "execution_count": 269,
     "metadata": {},
     "output_type": "execute_result"
    }
   ],
   "source": [
    "6.#How do conditional statements work in Python? Illustrate with examples.\n",
    "#Conditional Statements in Python.\n",
    "\n",
    "''' In Python, conditional statements, using if, elif (else if), and else, \n",
    "allow you to execute different blocks of code based on whether a condition is true or false, controlling the flow of your program. '''\n",
    "\n",
    "'''\n",
    "* if\n",
    "* if-else\n",
    "* if-elif-else\n",
    "* nested-if-else\n",
    "'''"
   ]
  },
  {
   "cell_type": "code",
   "execution_count": 271,
   "id": "2199c8cb-7e30-4147-a46e-ad839e254747",
   "metadata": {},
   "outputs": [],
   "source": [
    "#For Example: if condition is true\n",
    "a=100\n"
   ]
  },
  {
   "cell_type": "code",
   "execution_count": 273,
   "id": "763d1d72-18bc-40ee-a7b4-947fa7b06fd7",
   "metadata": {},
   "outputs": [
    {
     "name": "stdout",
     "output_type": "stream",
     "text": [
      "The number that is greater than 0\n"
     ]
    }
   ],
   "source": [
    "if a>0:\n",
    "    print('The number that is greater than 0')"
   ]
  },
  {
   "cell_type": "code",
   "execution_count": 275,
   "id": "0d126a0c-06ee-460f-9fe5-b22fea5fad9b",
   "metadata": {},
   "outputs": [
    {
     "data": {
      "text/plain": [
       "\" The Condition is true that's why code entered in indented block or indentation. 4 subssequent spaces or 1tab is called indentation.\""
      ]
     },
     "execution_count": 275,
     "metadata": {},
     "output_type": "execute_result"
    }
   ],
   "source": [
    "#Therefore,\n",
    "''' The Condition is true that's why code entered in indented block or indentation. 4 subssequent spaces or 1tab is called indentation.'''"
   ]
  },
  {
   "cell_type": "code",
   "execution_count": 277,
   "id": "2f4f8f0e-a3b2-4c6e-9554-b9e751b70da8",
   "metadata": {},
   "outputs": [],
   "source": [
    "#if condition is not true/false\n",
    "a=100"
   ]
  },
  {
   "cell_type": "code",
   "execution_count": 279,
   "id": "8efa9e5a-b9a2-4156-9002-907fda18545e",
   "metadata": {},
   "outputs": [],
   "source": [
    "if a<0:\n",
    "    print('The number is greater than 0')"
   ]
  },
  {
   "cell_type": "code",
   "execution_count": 281,
   "id": "d9da063c-0ee2-4a45-b45d-26a7ddef195e",
   "metadata": {},
   "outputs": [
    {
     "data": {
      "text/plain": [
       "\" The Condition is not true because value assigned to the variable a which is 100 is not lesser than 0 that's why nothing is shown as output.\""
      ]
     },
     "execution_count": 281,
     "metadata": {},
     "output_type": "execute_result"
    }
   ],
   "source": [
    "''' The Condition is not true because value assigned to the variable a which is 100 is not lesser than 0 that's why nothing is shown as output.'''"
   ]
  },
  {
   "cell_type": "code",
   "execution_count": 283,
   "id": "c2ee32f9-c4a2-41bd-bde3-5a38a668af60",
   "metadata": {},
   "outputs": [],
   "source": [
    "#For Example: if-else (True)"
   ]
  },
  {
   "cell_type": "code",
   "execution_count": 285,
   "id": "7ec2d0b2-4e97-43cc-b4b6-81b63efd4e6a",
   "metadata": {},
   "outputs": [],
   "source": [
    "weather='sunny'"
   ]
  },
  {
   "cell_type": "code",
   "execution_count": 287,
   "id": "50765c52-48b1-4ec5-a2c6-d57989549951",
   "metadata": {},
   "outputs": [
    {
     "name": "stdout",
     "output_type": "stream",
     "text": [
      "I will Play Cricket\n"
     ]
    }
   ],
   "source": [
    "if weather=='sunny':\n",
    "    print('I will Play Cricket')\n",
    "else:\n",
    "    print('I will play video games on Television')"
   ]
  },
  {
   "cell_type": "code",
   "execution_count": 289,
   "id": "5505940b-75b7-45ba-9edc-e1c56aeaa2d6",
   "metadata": {},
   "outputs": [],
   "source": [
    "#if-else (False)"
   ]
  },
  {
   "cell_type": "code",
   "execution_count": 291,
   "id": "aaae5e9f-6dfa-47c2-bd32-c75c6eb20074",
   "metadata": {},
   "outputs": [],
   "source": [
    "weather='rainy'"
   ]
  },
  {
   "cell_type": "code",
   "execution_count": 293,
   "id": "6202ca81-8f97-4fc2-ac9c-0caf686cdbb6",
   "metadata": {},
   "outputs": [
    {
     "name": "stdout",
     "output_type": "stream",
     "text": [
      "I will play video games on Television\n"
     ]
    }
   ],
   "source": [
    "if weather=='sunny':\n",
    "    print('I will Play Cricket')\n",
    "else:\n",
    "    print('I will play video games on Television')"
   ]
  },
  {
   "cell_type": "code",
   "execution_count": 295,
   "id": "fed69c36-8d91-4de6-81d0-6727e4f49444",
   "metadata": {},
   "outputs": [],
   "source": [
    "#For Example: if-else-else"
   ]
  },
  {
   "cell_type": "code",
   "execution_count": 297,
   "id": "7a4967a2-d4db-46b5-aa79-7d21fa7a46ce",
   "metadata": {},
   "outputs": [],
   "source": [
    "a=100"
   ]
  },
  {
   "cell_type": "code",
   "execution_count": 299,
   "id": "abacb1c5-0c67-478e-8a09-27f4cc01a749",
   "metadata": {},
   "outputs": [
    {
     "name": "stdout",
     "output_type": "stream",
     "text": [
      "a is equals to 100\n"
     ]
    }
   ],
   "source": [
    "if a>100:\n",
    "    print('a is greater than 100')\n",
    "elif a<100:\n",
    "    print('a is less than 100')\n",
    "else:\n",
    "    print('a is equals to 100')"
   ]
  },
  {
   "cell_type": "code",
   "execution_count": 301,
   "id": "92cf2ecd-8c16-4162-a8b6-afb2340848d2",
   "metadata": {},
   "outputs": [],
   "source": [
    "a=99"
   ]
  },
  {
   "cell_type": "code",
   "execution_count": 303,
   "id": "37226fa8-62e9-4d08-8fd8-04753e82600d",
   "metadata": {},
   "outputs": [
    {
     "name": "stdout",
     "output_type": "stream",
     "text": [
      "a is less than 100\n"
     ]
    }
   ],
   "source": [
    "if a>100:\n",
    "    print('a is greater than 100')\n",
    "elif a<100:\n",
    "    print('a is less than 100')\n",
    "else:\n",
    "    print('a is equals to 100')"
   ]
  },
  {
   "cell_type": "code",
   "execution_count": 305,
   "id": "5f81fd07-7c1b-44ec-ade9-4e69514ef098",
   "metadata": {},
   "outputs": [],
   "source": [
    "a=101"
   ]
  },
  {
   "cell_type": "code",
   "execution_count": 307,
   "id": "d40ca01d-23ba-4cea-9360-ee53a89affae",
   "metadata": {},
   "outputs": [
    {
     "name": "stdout",
     "output_type": "stream",
     "text": [
      "a is greater than 100\n"
     ]
    }
   ],
   "source": [
    "if a>100:\n",
    "    print('a is greater than 100')\n",
    "elif a<100:\n",
    "    print('a is less than 100')\n",
    "else:\n",
    "    print('a is equals to 100')"
   ]
  },
  {
   "cell_type": "code",
   "execution_count": 309,
   "id": "12e18992-60a0-4f57-8bb0-0260a95d6e34",
   "metadata": {},
   "outputs": [],
   "source": [
    "#For Example: nested-if-else"
   ]
  },
  {
   "cell_type": "code",
   "execution_count": 311,
   "id": "0eef8ee6-f5fb-46c3-b159-1cd5529cc675",
   "metadata": {},
   "outputs": [],
   "source": [
    "x=1\n",
    "y=6"
   ]
  },
  {
   "cell_type": "code",
   "execution_count": 313,
   "id": "82314434-60e3-4f54-a41a-0e40d573e70c",
   "metadata": {},
   "outputs": [
    {
     "name": "stdout",
     "output_type": "stream",
     "text": [
      "x is not greater than 5\n"
     ]
    }
   ],
   "source": [
    "if x>5:\n",
    "    if y>5:\n",
    "        print('Both x and y is greater than 5')\n",
    "    else:\n",
    "        print('x is greater than 5')\n",
    "else:\n",
    "    print('x is not greater than 5')"
   ]
  },
  {
   "cell_type": "code",
   "execution_count": 315,
   "id": "047a4e59-88ca-4f7c-92d8-adea8f08bb00",
   "metadata": {},
   "outputs": [],
   "source": [
    "x=10\n",
    "y=1"
   ]
  },
  {
   "cell_type": "code",
   "execution_count": 317,
   "id": "f01e5eb9-bc2f-49ee-92ed-8f0e39719d32",
   "metadata": {},
   "outputs": [
    {
     "name": "stdout",
     "output_type": "stream",
     "text": [
      "x is greater than 5\n"
     ]
    }
   ],
   "source": [
    "if x>5:\n",
    "    if y>5:\n",
    "        print('Both x and y is greater than 5')\n",
    "    else:\n",
    "        print('x is greater than 5')\n",
    "else:\n",
    "    print('x is not greater than 5')"
   ]
  },
  {
   "cell_type": "code",
   "execution_count": 319,
   "id": "96acf465-a4c7-4a5f-b1cc-1f2626099b09",
   "metadata": {},
   "outputs": [],
   "source": [
    "x=7\n",
    "y=10"
   ]
  },
  {
   "cell_type": "code",
   "execution_count": 321,
   "id": "d9a5364f-d49e-4161-8b7a-8bdc946b1a77",
   "metadata": {},
   "outputs": [
    {
     "name": "stdout",
     "output_type": "stream",
     "text": [
      "Both x and y is greater than 5\n"
     ]
    }
   ],
   "source": [
    "if x>5:\n",
    "    if y>5:\n",
    "        print('Both x and y is greater than 5')\n",
    "    else:\n",
    "        print('x is greater than 5')\n",
    "else:\n",
    "    print('x is not greater than 5')"
   ]
  },
  {
   "cell_type": "code",
   "execution_count": 323,
   "id": "9ca7e14b-015f-4c34-9b75-5073f250cc97",
   "metadata": {},
   "outputs": [
    {
     "name": "stdin",
     "output_type": "stream",
     "text": [
      "Enter a Number 77\n"
     ]
    }
   ],
   "source": [
    "a = int(input('Enter a Number'))"
   ]
  },
  {
   "cell_type": "code",
   "execution_count": 325,
   "id": "59f5e3a8-eb2a-43b4-8824-8124ee914172",
   "metadata": {},
   "outputs": [
    {
     "name": "stdout",
     "output_type": "stream",
     "text": [
      "The Number is Greater than 0 and Less than 100\n"
     ]
    }
   ],
   "source": [
    "if a >=100:\n",
    "    print('The Number is Greater Than 100')\n",
    "elif 0<=a<100:\n",
    "    print('The Number is Greater than 0 and Less than 100')\n",
    "else:\n",
    "    print('This is a Negative Number')"
   ]
  },
  {
   "cell_type": "code",
   "execution_count": null,
   "id": "f676b6fe-607c-4425-98e8-d1833d31c994",
   "metadata": {},
   "outputs": [],
   "source": [
    "7.#Describe the different types of loops in Python and their use cases with examples.\n",
    "#Loops and Types of Loops in Python with Examples.\n",
    "\n",
    "''' Loops allows to execute a block of code repeatedly'''\n",
    "\n",
    "'''\n",
    "* while loop\n",
    "* for loop\n",
    "'''"
   ]
  },
  {
   "cell_type": "code",
   "execution_count": null,
   "id": "3c8fa5fc-9d8d-4b7c-9f43-e38d33bb1e47",
   "metadata": {},
   "outputs": [],
   "source": [
    "#For Example: While Loop\n",
    "s=13\n",
    "n=3\n",
    "while n < s:\n",
    "    print(n)\n",
    "    n=n+1"
   ]
  },
  {
   "cell_type": "code",
   "execution_count": null,
   "id": "0e225ab6-4658-4f6c-9a2f-2d1fb5c221db",
   "metadata": {},
   "outputs": [],
   "source": [
    "#For Example: While Loop\n",
    "s=12\n",
    "n=3\n",
    "while n < s:\n",
    "    print(n)\n",
    "    n=n+1"
   ]
  },
  {
   "cell_type": "code",
   "execution_count": 353,
   "id": "c4f73aa5-4f22-4f64-b7ae-0ab9e8b544bd",
   "metadata": {},
   "outputs": [
    {
     "name": "stdout",
     "output_type": "stream",
     "text": [
      "3\n",
      "4\n",
      "5\n",
      "6\n",
      "7\n",
      "8\n",
      "9\n",
      "10\n",
      "11\n"
     ]
    }
   ],
   "source": [
    "#For Example: While Loop\n",
    "s=12\n",
    "n=3\n",
    "while n<s:\n",
    "    print(n)\n",
    "    n=n+1"
   ]
  },
  {
   "cell_type": "code",
   "execution_count": 355,
   "id": "5d829bbf-58cb-4e1f-90b5-291b98555169",
   "metadata": {},
   "outputs": [
    {
     "name": "stdout",
     "output_type": "stream",
     "text": [
      "3\n",
      "4\n",
      "5\n",
      "6\n",
      "7\n",
      "8\n",
      "9\n",
      "10\n",
      "11\n",
      "This will be executed if while loop run succesfully without any break\n"
     ]
    }
   ],
   "source": [
    "s=12\n",
    "n=3\n",
    "while n<s:\n",
    "    print(n)\n",
    "    n=n+1\n",
    "else:\n",
    "    print('This will be executed if while loop run succesfully without any break')"
   ]
  },
  {
   "cell_type": "code",
   "execution_count": 365,
   "id": "ac29fd60-daf0-4a01-b407-2ca0db21b218",
   "metadata": {},
   "outputs": [
    {
     "name": "stdout",
     "output_type": "stream",
     "text": [
      "3\n",
      "4\n",
      "5\n",
      "6\n"
     ]
    }
   ],
   "source": [
    "s=12\n",
    "n=3\n",
    "while n<s:\n",
    "    print(n)\n",
    "    n=n+1\n",
    "    if n==7:\n",
    "        break\n",
    "else:\n",
    "    print('This will be executed if while loop run succesfully without any break')"
   ]
  },
  {
   "cell_type": "code",
   "execution_count": 371,
   "id": "1e5ff093-9e7a-4bcf-a19d-1a9c30c80ee5",
   "metadata": {},
   "outputs": [
    {
     "name": "stdout",
     "output_type": "stream",
     "text": [
      "4\n",
      "6\n",
      "7\n",
      "8\n",
      "9\n",
      "10\n",
      "11\n",
      "12\n",
      "This will be executed if while loop run succesfully without any break\n"
     ]
    }
   ],
   "source": [
    "s=12\n",
    "n=3\n",
    "while n<s:\n",
    "    n=n+1\n",
    "    if n==5:\n",
    "        continue\n",
    "    print(n)\n",
    "else:\n",
    "    print('This will be executed if while loop run succesfully without any break')"
   ]
  },
  {
   "cell_type": "code",
   "execution_count": 373,
   "id": "72419f47-3a9c-46bc-8de4-0749eca40b6a",
   "metadata": {},
   "outputs": [
    {
     "name": "stdout",
     "output_type": "stream",
     "text": [
      "s\n",
      "u\n",
      "m\n",
      "i\n",
      "t\n",
      "a\n",
      "b\n",
      "h\n"
     ]
    }
   ],
   "source": [
    "#For Example: For Loop\n",
    "for i in 'sumitabh':\n",
    "    print(i)"
   ]
  },
  {
   "cell_type": "code",
   "execution_count": 397,
   "id": "6a2ec792-fc2c-40a9-a7e0-0de72722a137",
   "metadata": {},
   "outputs": [
    {
     "name": "stdout",
     "output_type": "stream",
     "text": [
      "1\n",
      "2\n",
      "4\n",
      "6\n",
      "9\n",
      "sumitabh\n",
      "This will be executed if while loop run succesfully without any break\n"
     ]
    }
   ],
   "source": [
    "a=[1,2,4,6,9,'sumitabh']\n",
    "for i in a:\n",
    "    print(i)\n",
    "else:\n",
    "    print('This will be executed if while loop run succesfully without any break')"
   ]
  },
  {
   "cell_type": "code",
   "execution_count": 403,
   "id": "2c4a32e7-8abe-4a1c-b446-fc68f1ea41c3",
   "metadata": {},
   "outputs": [
    {
     "name": "stdout",
     "output_type": "stream",
     "text": [
      "1\n",
      "2\n",
      "4\n",
      "6\n"
     ]
    }
   ],
   "source": [
    "a=[1,2,4,6,9,'sumitabh']\n",
    "for i in a:\n",
    "    if i==9:\n",
    "        break\n",
    "    print(i)\n",
    "else:\n",
    "    print('This will be executed if while loop run succesfully without any break')"
   ]
  },
  {
   "cell_type": "code",
   "execution_count": 407,
   "id": "8c337fa7-611a-49d3-a14e-73d73a3a9596",
   "metadata": {},
   "outputs": [
    {
     "name": "stdout",
     "output_type": "stream",
     "text": [
      "1\n",
      "2\n",
      "4\n",
      "6\n",
      "sumitabh\n",
      "This will be executed if while loop run succesfully without any break\n"
     ]
    }
   ],
   "source": [
    "a=[1,2,4,6,9,'sumitabh']\n",
    "for i in a:\n",
    "    if i==9:\n",
    "        continue\n",
    "    print(i)\n",
    "else:\n",
    "    print('This will be executed if while loop run succesfully without any break')"
   ]
  },
  {
   "cell_type": "code",
   "execution_count": null,
   "id": "f612e392-71c1-4032-9a76-436d44a1126f",
   "metadata": {},
   "outputs": [],
   "source": []
  }
 ],
 "metadata": {
  "kernelspec": {
   "display_name": "Python [conda env:base] *",
   "language": "python",
   "name": "conda-base-py"
  },
  "language_info": {
   "codemirror_mode": {
    "name": "ipython",
    "version": 3
   },
   "file_extension": ".py",
   "mimetype": "text/x-python",
   "name": "python",
   "nbconvert_exporter": "python",
   "pygments_lexer": "ipython3",
   "version": "3.12.7"
  }
 },
 "nbformat": 4,
 "nbformat_minor": 5
}
